{
 "cells": [
  {
   "cell_type": "code",
   "id": "initial_id",
   "metadata": {
    "collapsed": true,
    "ExecuteTime": {
     "end_time": "2024-12-09T13:49:14.252612Z",
     "start_time": "2024-12-09T13:49:14.246584Z"
    }
   },
   "source": [
    "import logging\n",
    "import os\n",
    "\n",
    "import dotenv\n",
    "\n",
    "import django\n",
    "\n",
    "dotenv.load_dotenv(\"../.env\")\n",
    "os.environ.setdefault(\"DJANGO_SETTINGS_MODULE\", \"{{ project_name }}.settings\")\n",
    "django.setup()\n",
    "\n",
    "logger = logging.getLogger(__name__)\n",
    "\n",
    "from lamb.db.session import lamb_db_session_maker\n",
    "\n",
    "db = lamb_db_session_maker()"
   ],
   "outputs": [
    {
     "name": "stdout",
     "output_type": "stream",
     "text": [
      "125B65CE-293B-5CCE-AE6E-E7D8EE1D068C\n"
     ]
    }
   ],
   "execution_count": 4
  }
 ],
 "metadata": {
  "kernelspec": {
   "display_name": "Python 3",
   "language": "python",
   "name": "python3"
  },
  "language_info": {
   "codemirror_mode": {
    "name": "ipython",
    "version": 2
   },
   "file_extension": ".py",
   "mimetype": "text/x-python",
   "name": "python",
   "nbconvert_exporter": "python",
   "pygments_lexer": "ipython2",
   "version": "2.7.6"
  }
 },
 "nbformat": 4,
 "nbformat_minor": 5
}
